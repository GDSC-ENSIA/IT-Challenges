{
 "cells": [
  {
   "cell_type": "markdown",
   "metadata": {},
   "source": [
    "# Google Developer Club ENSIA - IT Department"
   ]
  },
  {
   "cell_type": "markdown",
   "metadata": {},
   "source": [
    "## Data Science Challenge 2 Solution"
   ]
  },
  {
   "cell_type": "markdown",
   "metadata": {},
   "source": [
    "#### 1. Importing numpy"
   ]
  },
  {
   "cell_type": "code",
   "execution_count": 2,
   "metadata": {},
   "outputs": [],
   "source": [
    "import numpy as np"
   ]
  },
  {
   "cell_type": "markdown",
   "metadata": {},
   "source": [
    "#### 2.Converting data into an array"
   ]
  },
  {
   "cell_type": "code",
   "execution_count": 3,
   "metadata": {},
   "outputs": [
    {
     "data": {
      "text/plain": [
       "array([ 6,  7,  7,  7,  5,  4,  7,  3,  2,  0, 16,  7,  6,  7,  5,  7,  8,\n",
       "        5,  7,  5,  7,  7,  7,  4,  1,  7,  7,  7,  6,  8,  7,  7,  6,  7,\n",
       "        7,  6,  6,  8,  7,  8,  6,  5,  5,  9,  7,  7,  7, 12,  8,  7,  6,\n",
       "        6,  8,  7,  7,  9,  7, 13,  7,  6,  7,  7,  6,  6,  7,  4,  9, 10,\n",
       "        4,  6,  7,  6,  5,  6,  7,  6,  7, 10,  7,  6,  6,  6,  7,  7,  7,\n",
       "        8,  7,  7,  7,  6,  7,  7,  6,  7,  7,  6,  4,  7,  8,  5,  7,  8,\n",
       "        7,  7,  6,  7,  7,  9,  7,  7,  7,  6,  7,  7,  7,  7,  6,  7,  8,\n",
       "        9])"
      ]
     },
     "execution_count": 3,
     "metadata": {},
     "output_type": "execute_result"
    }
   ],
   "source": [
    "life_time_sample = [6, 7, 7, 7, 5, 4, 7, 3, 2, 0, 16, 7, 6, 7, 5, 7, 8, 5, 7, 5, 7, 7, 7, 4, 1, 7, 7, 7, 6, 8, 7, 7, 6, 7, 7, 6, 6, 8, 7, 8, 6, 5, 5, 9, 7, 7, 7, 12, 8, 7, 6, 6, 8, 7, 7, 9, 7, 13, 7, 6, 7, 7, 6, 6, 7, 4, 9, 10, 4, 6, 7, 6, 5, 6, 7, 6, 7, 10, 7, 6, 6, 6, 7, 7, 7, 8, 7, 7, 7, 6, 7, 7, 6, 7, 7, 6, 4, 7, 8, 5, 7, 8, 7, 7, 6, 7, 7, 9, 7, 7, 7, 6, 7, 7, 7, 7, 6, 7, 8, 9]\n",
    "data = np.array(life_time_sample)\n",
    "data"
   ]
  },
  {
   "cell_type": "markdown",
   "metadata": {},
   "source": [
    "#### 3.Calculating the mean "
   ]
  },
  {
   "cell_type": "code",
   "execution_count": 4,
   "metadata": {},
   "outputs": [
    {
     "name": "stdout",
     "output_type": "stream",
     "text": [
      "Mean =  6.73\n"
     ]
    }
   ],
   "source": [
    "mean = np.mean(data)\n",
    "print('Mean = ','%.2f' % mean)      # '%.xf % num' rounds num to x percison"
   ]
  },
  {
   "cell_type": "markdown",
   "metadata": {},
   "source": [
    "#### 4.Median"
   ]
  },
  {
   "cell_type": "code",
   "execution_count": 5,
   "metadata": {},
   "outputs": [
    {
     "name": "stdout",
     "output_type": "stream",
     "text": [
      "Median =  7.0\n"
     ]
    }
   ],
   "source": [
    "median = np.median(data)\n",
    "print('Median = ', median)"
   ]
  },
  {
   "cell_type": "markdown",
   "metadata": {},
   "source": [
    "#### 5. 1st and 3rd quartiles"
   ]
  },
  {
   "cell_type": "code",
   "execution_count": 6,
   "metadata": {},
   "outputs": [
    {
     "data": {
      "text/plain": [
       "6.0"
      ]
     },
     "execution_count": 6,
     "metadata": {},
     "output_type": "execute_result"
    }
   ],
   "source": [
    "Q1 = np.percentile(data, 25)\n",
    "Q1"
   ]
  },
  {
   "cell_type": "code",
   "execution_count": 7,
   "metadata": {},
   "outputs": [
    {
     "data": {
      "text/plain": [
       "7.0"
      ]
     },
     "execution_count": 7,
     "metadata": {},
     "output_type": "execute_result"
    }
   ],
   "source": [
    "Q3 = np.percentile(data, 75)\n",
    "Q3"
   ]
  },
  {
   "cell_type": "markdown",
   "metadata": {},
   "source": [
    "#### 6.Interquartile"
   ]
  },
  {
   "cell_type": "code",
   "execution_count": 8,
   "metadata": {},
   "outputs": [
    {
     "data": {
      "text/plain": [
       "1.0"
      ]
     },
     "execution_count": 8,
     "metadata": {},
     "output_type": "execute_result"
    }
   ],
   "source": [
    "IQR = Q3 - Q1\n",
    "IQR"
   ]
  },
  {
   "cell_type": "markdown",
   "metadata": {},
   "source": [
    "#### 7.Standard deviation"
   ]
  },
  {
   "cell_type": "code",
   "execution_count": 9,
   "metadata": {},
   "outputs": [
    {
     "name": "stdout",
     "output_type": "stream",
     "text": [
      "Standard deviation =  1.85\n"
     ]
    }
   ],
   "source": [
    "std = np.std(data)\n",
    "print('Standard deviation = ', round(std, 2))"
   ]
  },
  {
   "cell_type": "markdown",
   "metadata": {},
   "source": [
    "#### 8.Checking for outliers"
   ]
  },
  {
   "cell_type": "code",
   "execution_count": 10,
   "metadata": {},
   "outputs": [],
   "source": [
    "# Calculating the lower bound and upper bound\n",
    "low = Q1 - 1.5 * IQR\n",
    "high = Q3 + 1.5 * IQR"
   ]
  },
  {
   "cell_type": "code",
   "execution_count": 11,
   "metadata": {},
   "outputs": [
    {
     "data": {
      "text/plain": [
       "array([ 4,  3,  2,  0, 16,  4,  1,  9, 12,  9, 13,  4,  9, 10,  4, 10,  4,\n",
       "        9,  9])"
      ]
     },
     "execution_count": 11,
     "metadata": {},
     "output_type": "execute_result"
    }
   ],
   "source": [
    "# Taking the data that are less than the lower bound or greater than the upper bound\n",
    "outlier = np.array([x for x in data[(data < low) | (data > high)]])\n",
    "outlier"
   ]
  },
  {
   "cell_type": "markdown",
   "metadata": {},
   "source": [
    "#### Hey ! Let's take a look at our data!"
   ]
  },
  {
   "cell_type": "code",
   "execution_count": 12,
   "metadata": {},
   "outputs": [
    {
     "data": {
      "image/png": "[encoded data removed]",
      "text/plain": [
       "<Figure size 640x480 with 1 Axes>"
      ]
     },
     "metadata": {},
     "output_type": "display_data"
    }
   ],
   "source": [
    "import matplotlib.pyplot as plt\n",
    "plt.hist(data, bins = np.arange(np.min(data), np.max(data) + 1))\n",
    "plt.show()"
   ]
  },
  {
   "cell_type": "markdown",
   "metadata": {},
   "source": [
    "#### Well done! Keep learning :)"
   ]
  },
  {
   "cell_type": "code",
   "execution_count": null,
   "metadata": {},
   "outputs": [],
   "source": []
  }
 ],
 "metadata": {
  "kernelspec": {
   "display_name": "Python 3 (ipykernel)",
   "language": "python",
   "name": "python3"
  },
  "language_info": {
   "codemirror_mode": {
    "name": "ipython",
    "version": 3
   },
   "file_extension": ".py",
   "mimetype": "text/x-python",
   "name": "python",
   "nbconvert_exporter": "python",
   "pygments_lexer": "ipython3",
   "version": "3.10.8"
  },
  "vscode": {
   "interpreter": {
    "hash": "e7370f93d1d0cde622a1f8e1c04877d8463912d04d973331ad4851f04de6915a"
   }
  }
 },
 "nbformat": 4,
 "nbformat_minor": 1
}
